{
 "cells": [
  {
   "cell_type": "markdown",
   "metadata": {},
   "source": [
    "# IMDB-WIKI\n",
    "##  Multi-task age and gender classification"
   ]
  },
  {
   "cell_type": "markdown",
   "metadata": {},
   "source": [
    "On the original paper [DEX: Deep EXpectation of apparent age from a single image](https://www.vision.ee.ethz.ch/en/publications/papers/proceedings/eth_biwi_01229.pdf) the authors were able to display remarkable results in classifying the age of an individual based on a given image alone. \n",
    "\n",
    "Let see how accuracy (bad I guess), with limited resources, we can get with self-construct architecture. And not only age, we also classifying gender by using multi-task training technique."
   ]
  },
  {
   "cell_type": "code",
   "execution_count": 9,
   "metadata": {},
   "outputs": [],
   "source": [
    "import os\n",
    "from six.moves import cPickle as pickle\n",
    "import numpy as np\n",
    "import scipy.io as sio\n",
    "import scipy.misc as spm\n",
    "from scipy import ndimage\n",
    "import datetime\n",
    "import matplotlib.image as plt\n",
    "from IPython.display import Image, display\n",
    "%matplotlib inline\n",
    "import numpy as np\n",
    "import pandas as pd\n",
    "from scipy import stats, integrate\n",
    "import matplotlib.pyplot as plt\n",
    "import seaborn as sns\n",
    "sns.set(color_codes=True)\n",
    "from collections import Counter\n",
    "# from skimage.transform import resize\n",
    "\n",
    "IMG_DIR = os.path.expanduser(\"~\")+'/coding/cnn/datasets/imdb_crop'\n",
    "MAT_FILE = os.path.expanduser(\"~\")+'/coding/cnn/datasets/imdb_crop/imdb.mat'"
   ]
  },
  {
   "cell_type": "markdown",
   "metadata": {},
   "source": [
    "First, the labels, which was not easily obtained. The meta data is stored separately and in a .mat file. (Yes, matlab)!\n",
    "\n",
    "The age parameter, requires us to calculate by taking the ```photo_taken``` and subtracting the ```dob```, the date of birth. Sounds easy? No ... as the dob is stored as a Matlab serial number.\n",
    "\n",
    "Luckily we can use the ```scipy.io.loadmat``` to load the ```.mat``` file to python accessible (kind of) format. We can access the ```dob``` by some proper indexing, and convert the Matlab serial number to a usable format by using ```datetime.date.fromordinal( serial_number ).year```."
   ]
  },
  {
   "cell_type": "code",
   "execution_count": 10,
   "metadata": {},
   "outputs": [],
   "source": [
    "def reformat_date(mat_date):\n",
    "    dt = datetime.date.fromordinal(np.max([mat_date - 366, 1])).year\n",
    "    return dt"
   ]
  },
  {
   "cell_type": "code",
   "execution_count": 11,
   "metadata": {},
   "outputs": [],
   "source": [
    "def create_path(path):\n",
    "    return os.path.join(IMG_DIR, path[0])"
   ]
  },
  {
   "cell_type": "code",
   "execution_count": 12,
   "metadata": {},
   "outputs": [
    {
     "name": "stdout",
     "output_type": "stream",
     "text": [
      "Dictionary created...\n"
     ]
    }
   ],
   "source": [
    "mat_struct = sio.loadmat(MAT_FILE)\n",
    "data_set = [data[0] for data in mat_struct['imdb'][0, 0]]\n",
    "\n",
    "keys = ['dob',\n",
    "    'photo_taken',\n",
    "    'full_path',\n",
    "    'gender',\n",
    "    'name',\n",
    "    'face_location',\n",
    "    'face_score',\n",
    "    'second_face_score',\n",
    "    'celeb_names',\n",
    "    'celeb_id'\n",
    "]\n",
    "\n",
    "imdb_dict = dict(zip(keys, np.asarray(data_set)))\n",
    "imdb_dict['dob'] = [reformat_date(dob) for dob in imdb_dict['dob']]\n",
    "imdb_dict['full_path'] = [create_path(path) for path in imdb_dict['full_path']]\n",
    "\n",
    "# Add 'age' key to the dictionary\n",
    "imdb_dict['age'] = imdb_dict['photo_taken'] - imdb_dict['dob']\n",
    "\n",
    "print(\"Dictionary created...\")"
   ]
  },
  {
   "cell_type": "markdown",
   "metadata": {},
   "source": [
    "The IMDB dataset has total 460,723 face images from 20,284 celebrities. \n",
    "\n",
    "We will ignore:\n",
    "* images with more than one face\n",
    "* gender is NaN\n",
    "* invalid age.\n",
    "\n",
    "As we are using only a subset of the data, and also using a self-constructed model that has a much smaller capacity, thus we need to take steps to adjust accordingly.\n",
    "\n",
    "The original paper uses 101 age classes, which was appropriate for the their data set size and learning architecture. As we are only using a small subset of the data and a very simple model, the number of classes was set to 4:\n",
    "* Young    (30yrs < age)\n",
    "* Middle   (30 <= age <45)\n",
    "* Old      (45 <= age < 60)\n",
    "* Very Old (60 <= age)"
   ]
  },
  {
   "cell_type": "code",
   "execution_count": 13,
   "metadata": {
    "scrolled": true
   },
   "outputs": [
    {
     "name": "stdout",
     "output_type": "stream",
     "text": [
      "Processing 0 of 460723\n",
      "Second face score: 1.1189733571573068\n",
      "Age: 69\n",
      "Gender: 1.0\n",
      "Processing 50000 of 460723\n",
      "Second face score: 1.6382603784375749\n",
      "Age: 62\n",
      "Gender: 1.0\n",
      "Processing 100000 of 460723\n",
      "Second face score: nan\n",
      "Age: 48\n",
      "Gender: 1.0\n",
      "Processing 150000 of 460723\n",
      "Second face score: nan\n",
      "Age: 45\n",
      "Gender: 0.0\n",
      "Processing 200000 of 460723\n",
      "Second face score: nan\n",
      "Age: 55\n",
      "Gender: 1.0\n",
      "Processing 250000 of 460723\n",
      "Second face score: 3.7557645554368593\n",
      "Age: 35\n",
      "Gender: 1.0\n",
      "Processing 300000 of 460723\n",
      "Second face score: 1.4490431053500914\n",
      "Age: 27\n",
      "Gender: 0.0\n",
      "Processing 350000 of 460723\n",
      "Second face score: nan\n",
      "Age: 24\n",
      "Gender: 1.0\n",
      "Processing 400000 of 460723\n",
      "Second face score: nan\n",
      "Age: 27\n",
      "Gender: 0.0\n",
      "Processing 450000 of 460723\n",
      "Second face score: 2.408505783400527\n",
      "Age: 31\n",
      "Gender: 0.0\n"
     ]
    }
   ],
   "source": [
    "raw_path = imdb_dict['full_path']\n",
    "raw_age = imdb_dict['age']\n",
    "raw_gender = imdb_dict['gender']\n",
    "raw_sface = imdb_dict['second_face_score']\n",
    "\n",
    "age = []\n",
    "gender = []\n",
    "imgs = []\n",
    "current_age = {0:0, 1:0, 2:0, 3:0}\n",
    "for i, sface in enumerate(raw_sface):\n",
    "    if i%50000==0:\n",
    "        print(\"Processing {0} of {1}\".format(i,len(raw_sface)))\n",
    "#         display(Image(filename=raw_path[i]))\n",
    "        print(\"Second face score: {}\".format(sface))\n",
    "        print(\"Age: {}\".format(raw_age[i]))\n",
    "        print(\"Gender: {}\".format(raw_gender[i]))\n",
    "    if np.isnan(sface) and raw_age[i] >= 0 and not np.isnan(raw_gender[i]):\n",
    "        age_tmp = 0;\n",
    "        if len(age) == 170000:\n",
    "            break\n",
    "        if raw_age[i] < 30 and current_age[0] < 42500:\n",
    "            current_age[0] += 1\n",
    "            age_tmp = 0\n",
    "        elif raw_age[i] <= 45 and current_age[1] < 69923:\n",
    "            current_age[1] += 1\n",
    "            age_tmp = 1\n",
    "        elif raw_age[i] < 60 and current_age[2] < 42500:\n",
    "            current_age[2] += 1\n",
    "            age_tmp = 2\n",
    "        elif raw_age[i] >= 60 and current_age[3] < 42500:\n",
    "            current_age[3] += 1\n",
    "            age_tmp = 3\n",
    "        else:\n",
    "            continue\n",
    "        age.append(age_tmp)\n",
    "        gender.append(raw_gender[i])\n",
    "        imgs.append(raw_path[i])"
   ]
  },
  {
   "cell_type": "code",
   "execution_count": 14,
   "metadata": {},
   "outputs": [
    {
     "name": "stdout",
     "output_type": "stream",
     "text": [
      "{0: 42500, 1: 69923, 2: 42500, 3: 15077}\n"
     ]
    },
    {
     "name": "stderr",
     "output_type": "stream",
     "text": [
      "/Users/truongnm/tensorflow/lib/python3.6/site-packages/matplotlib/axes/_axes.py:6462: UserWarning: The 'normed' kwarg is deprecated, and has been replaced by the 'density' kwarg.\n",
      "  warnings.warn(\"The 'normed' kwarg is deprecated, and has been \"\n"
     ]
    },
    {
     "data": {
      "image/png": "[encoded data removed]",
      "text/plain": [
       "<Figure size 432x288 with 1 Axes>"
      ]
     },
     "metadata": {},
     "output_type": "display_data"
    }
   ],
   "source": [
    "print(current_age)\n",
    "sns.distplot(age);\n",
    "# current_age"
   ]
  },
  {
   "cell_type": "markdown",
   "metadata": {},
   "source": [
    "Second approach, 101 classes, from 0..100"
   ]
  },
  {
   "cell_type": "code",
   "execution_count": 33,
   "metadata": {},
   "outputs": [],
   "source": [
    "raw_path = imdb_dict['full_path']\n",
    "raw_age = imdb_dict['age']\n",
    "raw_gender = imdb_dict['gender']\n",
    "raw_sface = imdb_dict['second_face_score']\n",
    "\n",
    "age = []\n",
    "gender = []\n",
    "imgs = []\n",
    "\n",
    "for i, sface in enumerate(raw_sface):\n",
    "    if np.isnan(sface) and raw_age[i] >= 0 and raw_age[i] <= 100 and not np.isnan(raw_gender[i]):\n",
    "        age_tmp = 0;\n",
    "        if len(age) == 170000:\n",
    "            break\n",
    "#         if raw_age[i] < 30 and current_age[0] < 42500:\n",
    "#             current_age[0] += 1\n",
    "#             age_tmp = 0\n",
    "#         elif raw_age[i] <= 45 and current_age[1] < 69923:\n",
    "#             current_age[1] += 1\n",
    "#             age_tmp = 1\n",
    "#         elif raw_age[i] < 60 and current_age[2] < 42500:\n",
    "#             current_age[2] += 1\n",
    "#             age_tmp = 2\n",
    "#         elif raw_age[i] >= 60 and current_age[3] < 42500:\n",
    "#             current_age[3] += 1\n",
    "#             age_tmp = 3\n",
    "#         else:\n",
    "#             continue\n",
    "        age.append(raw_age[i])\n",
    "        gender.append(raw_gender[i])\n",
    "        imgs.append(raw_path[i])"
   ]
  },
  {
   "cell_type": "code",
   "execution_count": 34,
   "metadata": {},
   "outputs": [
    {
     "name": "stderr",
     "output_type": "stream",
     "text": [
      "/Users/truongnm/tensorflow/lib/python3.6/site-packages/matplotlib/axes/_axes.py:6462: UserWarning: The 'normed' kwarg is deprecated, and has been replaced by the 'density' kwarg.\n",
      "  warnings.warn(\"The 'normed' kwarg is deprecated, and has been \"\n"
     ]
    },
    {
     "data": {
      "image/png": "[encoded data removed]",
      "text/plain": [
       "<Figure size 432x288 with 1 Axes>"
      ]
     },
     "metadata": {},
     "output_type": "display_data"
    }
   ],
   "source": [
    "sns.distplot(age);\n",
    "# current_age"
   ]
  },
  {
   "cell_type": "code",
   "execution_count": 32,
   "metadata": {},
   "outputs": [
    {
     "name": "stdout",
     "output_type": "stream",
     "text": [
      "Counter({31: 6325, 39: 6139, 36: 5754, 34: 5692, 30: 5504, 32: 5439, 38: 5338, 35: 5320, 29: 5194, 37: 5193, 33: 5140, 27: 4785, 40: 4739, 41: 4663, 42: 4531, 43: 4353, 28: 4310, 45: 3973, 46: 3845, 25: 3795, 44: 3784, 26: 3742, 24: 3225, 47: 3071, 48: 3010, 23: 2945, 49: 2824, 21: 2658, 22: 2602, 20: 2557, 51: 2351, 50: 2238, 53: 2177, 52: 2106, 55: 1767, 54: 1624, 19: 1485, 58: 1421, 60: 1411, 56: 1387, 59: 1371, 57: 1330, 61: 1276, 18: 1232, 63: 1120, 62: 1081, 16: 1025, 17: 976, 65: 917, 64: 839, 66: 769, 15: 715, 13: 627, 68: 615, 70: 602, 14: 598, 67: 589, 12: 542, 69: 504, 72: 454, 11: 414, 71: 402, 73: 353, 74: 280, 10: 276, 75: 269, 76: 263, 77: 257, 9: 220, 79: 205, 78: 201, 8: 192, 80: 150, 81: 120, 82: 103, 84: 77, 7: 71, 83: 67, 85: 55, 6: 54, 2: 51, 87: 48, 86: 35, 88: 34, 5: 32, 3: 28, 0: 28, 90: 27, 4: 15, 89: 15, 91: 13, 96: 10, 94: 9, 1: 8, 92: 6, 93: 5, 95: 3, 99: 2, 98: 1, 97: 1, 100: 1})\n"
     ]
    }
   ],
   "source": [
    "counter = Counter(age)\n",
    "print(counter)"
   ]
  },
  {
   "cell_type": "code",
   "execution_count": 35,
   "metadata": {},
   "outputs": [],
   "source": [
    "pickle_file = 'imdb-gender-age101.pkl'\n",
    "\n",
    "try:\n",
    "    f = open(os.getcwd()+\"/pkl_folder/\"+pickle_file, 'wb')\n",
    "    save = {\n",
    "    'age': age,\n",
    "    'gender': gender,\n",
    "    'imgs': imgs\n",
    "    }\n",
    "    pickle.dump(save, f, pickle.HIGHEST_PROTOCOL)\n",
    "    f.close()\n",
    "except Exception as e:\n",
    "    print('Unable to save data to', pickle_file, ':', e)\n",
    "    raise"
   ]
  },
  {
   "cell_type": "code",
   "execution_count": null,
   "metadata": {},
   "outputs": [],
   "source": []
  }
 ],
 "metadata": {
  "kernelspec": {
   "display_name": "Python 3",
   "language": "python",
   "name": "python3"
  },
  "language_info": {
   "codemirror_mode": {
    "name": "ipython",
    "version": 3
   },
   "file_extension": ".py",
   "mimetype": "text/x-python",
   "name": "python",
   "nbconvert_exporter": "python",
   "pygments_lexer": "ipython3",
   "version": "3.6.4"
  }
 },
 "nbformat": 4,
 "nbformat_minor": 2
}
