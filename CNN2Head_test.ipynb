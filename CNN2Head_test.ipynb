{
 "cells": [
  {
   "cell_type": "code",
   "execution_count": 1,
   "metadata": {},
   "outputs": [
    {
     "name": "stderr",
     "output_type": "stream",
     "text": [
      "/home/ubuntu/anaconda3/envs/tensorflow_p36/lib/python3.6/importlib/_bootstrap.py:219: RuntimeWarning: compiletime version 3.5 of module 'tensorflow.python.framework.fast_tensor_util' does not match runtime version 3.6\n",
      "  return f(*args, **kwds)\n"
     ]
    },
    {
     "name": "stdout",
     "output_type": "stream",
     "text": [
      "Load smile image...................\n",
      "Done !\n",
      "Number of smile train data:  3000\n",
      "---------------------------------------------------------------\n",
      "Load gender image...................\n",
      "Done !\n",
      "Number of gender train data:  150000\n",
      "---------------------------------------------------------------\n",
      "Load age image...................\n",
      "Done !\n",
      "Number of age train data:  150000\n",
      "---------------------------------------------------------------\n"
     ]
    }
   ],
   "source": [
    "import CNN2Head_input\n",
    "import tensorflow as tf\n",
    "import numpy as np\n",
    "\n",
    "SAVE_FOLDER = '/home/ubuntu/coding/cnn/multi-task-learning/save/current'\n",
    "\n",
    "_, smile_test_data =  CNN2Head_input.getSmileImage()\n",
    "_, gender_test_data =  CNN2Head_input.getGenderImage()\n",
    "_, age_test_data =  CNN2Head_input.getAgeImage()"
   ]
  },
  {
   "cell_type": "code",
   "execution_count": 3,
   "metadata": {},
   "outputs": [
    {
     "name": "stdout",
     "output_type": "stream",
     "text": [
      "Testing phase...............................\n",
      "INFO:tensorflow:Restoring parameters from /home/ubuntu/coding/cnn/multi-task-learning/save/current/model.ckpt\n"
     ]
    },
    {
     "ename": "IndexError",
     "evalue": "list index out of range",
     "output_type": "error",
     "traceback": [
      "\u001b[0;31m---------------------------------------------------------------------------\u001b[0m",
      "\u001b[0;31mIndexError\u001b[0m                                Traceback (most recent call last)",
      "\u001b[0;32m<ipython-input-3-1290c4edb5d2>\u001b[0m in \u001b[0;36m<module>\u001b[0;34m()\u001b[0m\n\u001b[1;32m    108\u001b[0m     \u001b[0mprint\u001b[0m\u001b[0;34m(\u001b[0m\u001b[0;34m'Age test accuracy: '\u001b[0m\u001b[0;34m,\u001b[0m \u001b[0mstr\u001b[0m\u001b[0;34m(\u001b[0m\u001b[0mage_acc\u001b[0m\u001b[0;34m)\u001b[0m\u001b[0;34m)\u001b[0m\u001b[0;34m\u001b[0m\u001b[0m\n\u001b[1;32m    109\u001b[0m \u001b[0;34m\u001b[0m\u001b[0m\n\u001b[0;32m--> 110\u001b[0;31m \u001b[0mevaluate\u001b[0m\u001b[0;34m(\u001b[0m\u001b[0;36m10\u001b[0m\u001b[0;34m)\u001b[0m\u001b[0;34m\u001b[0m\u001b[0m\n\u001b[0m",
      "\u001b[0;32m<ipython-input-3-1290c4edb5d2>\u001b[0m in \u001b[0;36mevaluate\u001b[0;34m(nbof_crop)\u001b[0m\n\u001b[1;32m    103\u001b[0m \u001b[0;32mdef\u001b[0m \u001b[0mevaluate\u001b[0m\u001b[0;34m(\u001b[0m\u001b[0mnbof_crop\u001b[0m\u001b[0;34m)\u001b[0m\u001b[0;34m:\u001b[0m\u001b[0;34m\u001b[0m\u001b[0m\n\u001b[1;32m    104\u001b[0m     \u001b[0mprint\u001b[0m\u001b[0;34m(\u001b[0m\u001b[0;34m'Testing phase...............................'\u001b[0m\u001b[0;34m)\u001b[0m\u001b[0;34m\u001b[0m\u001b[0m\n\u001b[0;32m--> 105\u001b[0;31m     \u001b[0msmile_acc\u001b[0m\u001b[0;34m,\u001b[0m \u001b[0mgender_acc\u001b[0m\u001b[0;34m,\u001b[0m \u001b[0mage_acc\u001b[0m \u001b[0;34m=\u001b[0m \u001b[0meval_smile_gender_age_test\u001b[0m\u001b[0;34m(\u001b[0m\u001b[0mnbof_crop\u001b[0m\u001b[0;34m)\u001b[0m\u001b[0;34m\u001b[0m\u001b[0m\n\u001b[0m\u001b[1;32m    106\u001b[0m     \u001b[0mprint\u001b[0m\u001b[0;34m(\u001b[0m\u001b[0;34m'Smile test accuracy: '\u001b[0m\u001b[0;34m,\u001b[0m\u001b[0mstr\u001b[0m\u001b[0;34m(\u001b[0m\u001b[0msmile_acc\u001b[0m\u001b[0;34m)\u001b[0m\u001b[0;34m)\u001b[0m\u001b[0;34m\u001b[0m\u001b[0m\n\u001b[1;32m    107\u001b[0m     \u001b[0mprint\u001b[0m\u001b[0;34m(\u001b[0m\u001b[0;34m'Gender test accuracy: '\u001b[0m\u001b[0;34m,\u001b[0m \u001b[0mstr\u001b[0m\u001b[0;34m(\u001b[0m\u001b[0mgender_acc\u001b[0m\u001b[0;34m)\u001b[0m\u001b[0;34m)\u001b[0m\u001b[0;34m\u001b[0m\u001b[0m\n",
      "\u001b[0;32m<ipython-input-3-1290c4edb5d2>\u001b[0m in \u001b[0;36meval_smile_gender_age_test\u001b[0;34m(nbof_crop)\u001b[0m\n\u001b[1;32m     12\u001b[0m     \u001b[0msaver\u001b[0m\u001b[0;34m.\u001b[0m\u001b[0mrestore\u001b[0m\u001b[0;34m(\u001b[0m\u001b[0msess\u001b[0m\u001b[0;34m,\u001b[0m \u001b[0mSAVE_FOLDER\u001b[0m \u001b[0;34m+\u001b[0m \u001b[0;34m\"/model.ckpt\"\u001b[0m\u001b[0;34m)\u001b[0m\u001b[0;34m\u001b[0m\u001b[0m\n\u001b[1;32m     13\u001b[0m \u001b[0;34m\u001b[0m\u001b[0m\n\u001b[0;32m---> 14\u001b[0;31m     \u001b[0mx_smile\u001b[0m \u001b[0;34m=\u001b[0m \u001b[0mtf\u001b[0m\u001b[0;34m.\u001b[0m\u001b[0mget_collection\u001b[0m\u001b[0;34m(\u001b[0m\u001b[0;34m'x_smile'\u001b[0m\u001b[0;34m)\u001b[0m\u001b[0;34m[\u001b[0m\u001b[0;36m0\u001b[0m\u001b[0;34m]\u001b[0m\u001b[0;34m\u001b[0m\u001b[0m\n\u001b[0m\u001b[1;32m     15\u001b[0m     \u001b[0mx_gender\u001b[0m \u001b[0;34m=\u001b[0m \u001b[0mtf\u001b[0m\u001b[0;34m.\u001b[0m\u001b[0mget_collection\u001b[0m\u001b[0;34m(\u001b[0m\u001b[0;34m'x_gender'\u001b[0m\u001b[0;34m)\u001b[0m\u001b[0;34m[\u001b[0m\u001b[0;36m0\u001b[0m\u001b[0;34m]\u001b[0m\u001b[0;34m\u001b[0m\u001b[0m\n\u001b[1;32m     16\u001b[0m     \u001b[0mx_age\u001b[0m \u001b[0;34m=\u001b[0m \u001b[0mtf\u001b[0m\u001b[0;34m.\u001b[0m\u001b[0mget_collection\u001b[0m\u001b[0;34m(\u001b[0m\u001b[0;34m'x_age'\u001b[0m\u001b[0;34m)\u001b[0m\u001b[0;34m[\u001b[0m\u001b[0;36m0\u001b[0m\u001b[0;34m]\u001b[0m\u001b[0;34m\u001b[0m\u001b[0m\n",
      "\u001b[0;31mIndexError\u001b[0m: list index out of range"
     ]
    }
   ],
   "source": [
    "def eval_smile_gender_age_test(nbof_crop):\n",
    "    nbof_smile = len(smile_test_data)\n",
    "    nbof_gender = len(gender_test_data)\n",
    "    nbof_age = len(age_test_data)\n",
    "\n",
    "    nbof_true_smile = 0\n",
    "    nbof_true_gender = 0\n",
    "    nbof_true_age = 0\n",
    "\n",
    "    sess = tf.InteractiveSession()\n",
    "    saver = tf.train.import_meta_graph(SAVE_FOLDER + '/model.ckpt.meta')\n",
    "    saver.restore(sess, SAVE_FOLDER + \"/model.ckpt\")\n",
    "    \n",
    "    x_smile = tf.get_collection('x_smile')[0]\n",
    "    x_gender = tf.get_collection('x_gender')[0]\n",
    "    x_age = tf.get_collection('x_age')[0]\n",
    "    \n",
    "    keep_prob_smile_fc1 = tf.get_collection('keep_prob_smile_fc1')[0]\n",
    "    keep_prob_gender_fc1 = tf.get_collection('keep_prob_gender_fc1')[0]\n",
    "    keep_prob_age_fc1 = tf.get_collection('keep_prob_age_fc1')[0]\n",
    "    \n",
    "    keep_prob_smile_fc2 = tf.get_collection('keep_prob_smile_fc2')[0]\n",
    "    keep_prob_gender_fc2 = tf.get_collection('keep_prob_emotion_fc2')[0]\n",
    "    keep_prob_age_fc2 = tf.get_collection('keep_prob_age_fc2')[0]\n",
    "    \n",
    "    y_smile_conv = tf.get_collection('y_smile_conv')[0]\n",
    "    y_gender_conv = tf.get_collection('y_gender_conv')[0]\n",
    "    y_age_conv = tf.get_collection('y_age_conv')[0]\n",
    "    \n",
    "    is_training = tf.get_collection('is_training')[0]\n",
    "\n",
    "    for i in range(nbof_smile):        \n",
    "        smile = np.zeros([1,48,48,1])\n",
    "        smile[0] = smile_test_data[i % 1000][0]\n",
    "        smile_label = smile_test_data[i % 1000][1]\n",
    "        \n",
    "        gender = np.zeros([1,48,48,1])\n",
    "        gender[0] = gender_test_data[i % 1000][0]\n",
    "        gender_label = gender_test_data[i % 1000][1]\n",
    "        \n",
    "        age = np.zeros([1,48,48,1])\n",
    "        age[0] = age_test_data[i % 1000][0]\n",
    "        age_label = age_test_data[i % 1000][1]\n",
    "        \n",
    "        y_smile_pred = np.zeros([2])\n",
    "        y_gender_pred = np.zeros([2])\n",
    "        y_age_pred = np.zeros([4])\n",
    "\n",
    "        for _ in range(nbof_crop):\n",
    "            x_smile_ = CNN2Head_input.random_crop(smile, (48, 48), 10)\n",
    "            x_gender_ = CNN2Head_input.random_crop(gender,(48, 48), 10)\n",
    "            x_age_ = CNN2Head_input.random_crop(age,(48, 48), 10)\n",
    "            \n",
    "            y1 = y_smile_conv.eval(feed_dict={x_smile: x_smile_,\n",
    "                                              x_gender: x_gender_,\n",
    "                                              x_age: x_age_,\n",
    "                                              keep_prob_smile_fc1: 1,\n",
    "                                              keep_prob_smile_fc2: 1,\n",
    "                                              keep_prob_gender_fc1: 1,\n",
    "                                              keep_prob_gender_fc2: 1,\n",
    "                                              keep_prob_age_fc1: 1,\n",
    "                                              keep_prob_age_fc2: 1,\n",
    "                                              is_training: False})\n",
    "            y2 = y_gender_conv.eval(feed_dict={x_smile: x_smile_,\n",
    "                                               x_gender: x_gender_,\n",
    "                                               x_age: x_age_,\n",
    "                                               keep_prob_smile_fc1: 1,\n",
    "                                               keep_prob_smile_fc2: 1,\n",
    "                                               keep_prob_gender_fc1: 1,\n",
    "                                               keep_prob_gender_fc2: 1,\n",
    "                                               keep_prob_age_fc1: 1,\n",
    "                                               keep_prob_age_fc2: 1,\n",
    "                                               is_training: False})\n",
    "            y3 = y_age_conv.eval(feed_dict={x_smile: x_smile_,\n",
    "                                            x_gender: x_gender_,\n",
    "                                            x_age: x_age_,\n",
    "                                            keep_prob_smile_fc1: 1,\n",
    "                                            keep_prob_smile_fc2: 1,\n",
    "                                            keep_prob_gender_fc1: 1,\n",
    "                                            keep_prob_gender_fc2: 1,\n",
    "                                            keep_prob_age_fc1: 1,\n",
    "                                            keep_prob_age_fc2: 1,\n",
    "                                            is_training: False})\n",
    "              \n",
    "            y_smile_pred += y1[0]\n",
    "            y_gender_pred += y2[0]\n",
    "            y_age_pred += y3[0]\n",
    "\n",
    "        predict_smile = np.argmax(y_smile_pred)\n",
    "        predict_gender = np.argmax(y_gender_pred)\n",
    "        predict_age = np.argmax(y_age_pred)\n",
    "\n",
    "        if (predict_smile == smile_label) & (i < 1000):\n",
    "            nbof_true_smile += 1\n",
    "        if (predict_gender == gender_label):\n",
    "            nbof_true_gender += 1\n",
    "        if (predict_age == age_label):\n",
    "            nbof_true_age += 1\n",
    "        \n",
    "    return nbof_true_smile * 100.0 / nbof_smile, nbof_true_gender * 100.0 / nbof_gender, nbof_true_age * 100.0 / nbof_age\n",
    "\n",
    "\n",
    "def evaluate(nbof_crop):\n",
    "    print('Testing phase...............................')\n",
    "    smile_acc, gender_acc, age_acc = eval_smile_gender_age_test(nbof_crop)\n",
    "    print('Smile test accuracy: ',str(smile_acc))\n",
    "    print('Gender test accuracy: ', str(gender_acc))\n",
    "    print('Age test accuracy: ', str(age_acc))\n",
    "\n",
    "evaluate(10)"
   ]
  },
  {
   "cell_type": "code",
   "execution_count": 4,
   "metadata": {},
   "outputs": [
    {
     "name": "stdout",
     "output_type": "stream",
     "text": [
      "INFO:tensorflow:Restoring parameters from /home/ubuntu/coding/cnn/multi-task-learning/save/current/model.ckpt\n"
     ]
    }
   ],
   "source": [
    "nbof_smile = len(smile_test_data)\n",
    "nbof_gender = len(gender_test_data)\n",
    "nbof_age = len(age_test_data)\n",
    "\n",
    "nbof_true_smile = 0\n",
    "nbof_true_gender = 0\n",
    "nbof_true_age = 0\n",
    "\n",
    "sess = tf.InteractiveSession()\n",
    "saver = tf.train.import_meta_graph(SAVE_FOLDER + '/model.ckpt.meta')\n",
    "saver.restore(sess, SAVE_FOLDER + \"/model.ckpt\")\n"
   ]
  },
  {
   "cell_type": "code",
   "execution_count": 8,
   "metadata": {},
   "outputs": [
    {
     "data": {
      "text/plain": [
       "<tf.Tensor 'Slice:0' shape=(128, 2) dtype=float32>"
      ]
     },
     "execution_count": 8,
     "metadata": {},
     "output_type": "execute_result"
    }
   ],
   "source": [
    "tf.get_collection('y_smile')[0]"
   ]
  },
  {
   "cell_type": "code",
   "execution_count": null,
   "metadata": {},
   "outputs": [],
   "source": []
  }
 ],
 "metadata": {
  "kernelspec": {
   "display_name": "Environment (conda_tensorflow_p36)",
   "language": "python",
   "name": "conda_tensorflow_p36"
  },
  "language_info": {
   "codemirror_mode": {
    "name": "ipython",
    "version": 3
   },
   "file_extension": ".py",
   "mimetype": "text/x-python",
   "name": "python",
   "nbconvert_exporter": "python",
   "pygments_lexer": "ipython3",
   "version": "3.6.3"
  }
 },
 "nbformat": 4,
 "nbformat_minor": 2
}
